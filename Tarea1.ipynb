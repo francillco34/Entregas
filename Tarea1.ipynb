{
  "nbformat": 4,
  "nbformat_minor": 0,
  "metadata": {
    "colab": {
      "provenance": [],
      "mount_file_id": "1X4GkF9hbZbBZaodgkMR0nr5x7P6RBztM",
      "authorship_tag": "ABX9TyP/7Z7hQnrW8KgH7HjfI9MM",
      "include_colab_link": true
    },
    "kernelspec": {
      "name": "python3",
      "display_name": "Python 3"
    },
    "language_info": {
      "name": "python"
    }
  },
  "cells": [
    {
      "cell_type": "markdown",
      "metadata": {
        "id": "view-in-github",
        "colab_type": "text"
      },
      "source": [
        "<a href=\"https://colab.research.google.com/github/francillco34/Entregas/blob/main/Tarea1.ipynb\" target=\"_parent\"><img src=\"https://colab.research.google.com/assets/colab-badge.svg\" alt=\"Open In Colab\"/></a>"
      ]
    },
    {
      "cell_type": "markdown",
      "source": [
        "# Ejercicio 1\n"
      ],
      "metadata": {
        "id": "Sq_4JbZT09Cs"
      }
    },
    {
      "cell_type": "code",
      "source": [
        "import cv2\n",
        "import numpy as np\n",
        "from google.colab.patches import cv2_imshow\n",
        "\n",
        "# Estableciendo dimiensiones\n",
        "W = 100 # Ancho de la imagen\n",
        "H = 100 # Altura de la imagen\n",
        "# crear el un fondo cero\n",
        "im = np.zeros((W,H), np.uint8) # imágenes en escala de grises con np.uint8\n",
        "for i in range(H): im[i,i] = 255 # im[i,i] crea linea diagonal\n",
        "\n",
        "cv2_imshow(im)"
      ],
      "metadata": {
        "id": "Apw-qxymWGtg",
        "colab": {
          "base_uri": "https://localhost:8080/",
          "height": 117
        },
        "outputId": "c442cef9-cc6a-4e70-fb17-992e3142fbca"
      },
      "execution_count": null,
      "outputs": [
        {
          "output_type": "display_data",
          "data": {
            "text/plain": [
              "<PIL.Image.Image image mode=L size=100x100>"
            ],
            "image/png": "[encoded data removed]"
          },
          "metadata": {}
        }
      ]
    },
    {
      "cell_type": "code",
      "source": [
        "import cv2\n",
        "import numpy as np\n",
        "from google.colab.patches import cv2_imshow\n",
        "\n",
        "# Estableciendo dimiensiones\n",
        "W = 100 # Ancho de la imagen\n",
        "H = 100 # Altura de la imagen\n",
        "# crear el un fondo cero\n",
        "im = np.zeros((W,H), np.uint8) # imágenes en escala de grises con np.uint8\n",
        "for i in range(W):\n",
        "    im[i,99-i]=255\n",
        "\n",
        "\n",
        "cv2_imshow(im)"
      ],
      "metadata": {
        "colab": {
          "base_uri": "https://localhost:8080/",
          "height": 117
        },
        "id": "_u1EHtw5LpGL",
        "outputId": "07985818-1224-41ea-8985-5f19f7e9acb7"
      },
      "execution_count": null,
      "outputs": [
        {
          "output_type": "display_data",
          "data": {
            "text/plain": [
              "<PIL.Image.Image image mode=L size=100x100>"
            ],
            "image/png": "[encoded data removed]"
          },
          "metadata": {}
        }
      ]
    },
    {
      "cell_type": "code",
      "source": [
        "import cv2\n",
        "import numpy as np\n",
        "from google.colab.patches import cv2_imshow\n",
        "\n",
        "W = 100\n",
        "H = 100\n",
        "im = np.zeros((W, H, 3), np.uint8) # La tercera dimensión (3) representa los canales de color (rojo, verde, azul).\n",
        "# np.uint8 day un rengo 0 a 225 en un tamaño 8 bits con poco resolucion\n",
        "\n",
        "# Dibuja un cuadrado azul en el centro del cuadrado verde\n",
        "for i in range(20, 80):\n",
        "    for j in range(20, 80):\n",
        "        im[i, j] = (0, 0, 255) # azul\n",
        "\n",
        "# Dibuja un cuadrado verde en el centro del cuadrado rojo\n",
        "for i in range(30, 70):\n",
        "    for j in range(30, 70):\n",
        "        im[i, j] = (0, 255, 0) # verde\n",
        "\n",
        "# Dibuja un cuadrado rojo en el centro de la imagen\n",
        "for i in range(40, 60):\n",
        "    for j in range(40, 60):\n",
        "        im[i, j] = (255, 0, 0) # Rojo\n",
        "\n",
        "# Dibuja un cuadrado negr0 en el centro del cuadrado verde\n",
        "for i in range(45, 55):\n",
        "    for j in range(45, 55): # dimension del cuadro\n",
        "        im[i, j] = (0, 0, 0) # Negro\n",
        "\n",
        "cv2_imshow(im)"
      ],
      "metadata": {
        "colab": {
          "base_uri": "https://localhost:8080/",
          "height": 117
        },
        "id": "blk7esaF2Jn9",
        "outputId": "7c6af34c-ac26-4ed7-92e1-368334b7a13b"
      },
      "execution_count": null,
      "outputs": [
        {
          "output_type": "display_data",
          "data": {
            "text/plain": [
              "<PIL.Image.Image image mode=RGB size=100x100>"
            ],
            "image/png": "[encoded data removed]"
          },
          "metadata": {}
        }
      ]
    },
    {
      "cell_type": "code",
      "source": [
        "# Dibuja un cuadrado negr0 en el centro del cuadrado verde\n",
        "for i in range(45, 55):\n",
        "    for j in range(45, 55): # dimension del cuadro\n",
        "        im[i, j] = (0, 0, 0) # Negro"
      ],
      "metadata": {
        "id": "7b-UHohZm5TW"
      },
      "execution_count": null,
      "outputs": []
    },
    {
      "cell_type": "code",
      "source": [
        "from PIL import Image, ImageDraw\n",
        "\n",
        "# Configuración de la imagen\n",
        "width = 400\n",
        "height = 300\n",
        "color_bg = (0, 0, 0)  # Negro en formato RGB\n",
        "color_lines = (255, 255, 255)  # Blanco en formato RGB\n",
        "line_width = 1\n",
        "line_spacing = 10  # Espacio entre las líneas\n",
        "\n",
        "# Crear una nueva imagen con fondo negro\n",
        "image = Image.new(\"RGB\", (width, height), color_bg)\n",
        "\n",
        "# Dibujar líneas horizontales blancas delgadas en la imagen\n",
        "draw = ImageDraw.Draw(image)\n",
        "y = 0\n",
        "while y < height:\n",
        "    draw.line([(0, y), (width, y)], fill=color_lines, width=line_width)\n",
        "    y += line_spacing\n",
        "\n",
        "# Guardar la imagen generada\n",
        "image"
      ],
      "metadata": {
        "colab": {
          "base_uri": "https://localhost:8080/",
          "height": 317
        },
        "id": "7S8pdM7L6Mzs",
        "outputId": "69958400-9b40-403d-b4dd-b402b4a4337e"
      },
      "execution_count": null,
      "outputs": [
        {
          "output_type": "execute_result",
          "data": {
            "text/plain": [
              "<PIL.Image.Image image mode=RGB size=400x300>"
            ],
            "image/png": "[encoded data removed]"
          },
          "metadata": {},
          "execution_count": 43
        }
      ]
    },
    {
      "cell_type": "code",
      "source": [
        "from PIL import Image, ImageDraw\n",
        "import numpy as np\n",
        "\n",
        "# Configuración de la imagen\n",
        "width = 400\n",
        "height = 300\n",
        "color_bg = (0, 0, 0)  # Negro en formato RGB\n",
        "color_lines = (255, 255, 255)  # Blanco en formato RGB\n",
        "line_width = 1\n",
        "line_spacing = 10  # Espacio entre las líneas\n",
        "\n",
        "# Crear una nueva imagen con fondo negro\n",
        "image = Image.new(\"RGB\", (width, height), color_bg)\n",
        "\n",
        "# Dibujar líneas horizontales blancas delgadas en la imagen\n",
        "draw = ImageDraw.Draw(image)\n",
        "def seno(x):\n",
        "  return np.sin(x * np.pi * 2 / width)\n",
        "\n",
        "y_values = [seno(x) for x in range(width)]\n",
        "\n",
        "for x in range(width):\n",
        "  y = int(height / 2 + y_values[x] * height / 2)\n",
        "  draw.line([(x, y), (x, y + line_width)], fill=color_lines, width=line_width)\n",
        "\n",
        "# Guardar la imagen generada\n",
        "image"
      ],
      "metadata": {
        "colab": {
          "base_uri": "https://localhost:8080/",
          "height": 317
        },
        "id": "DwfOop0ynl8L",
        "outputId": "18ca4fa7-9313-4b35-a33d-0953fd3d63a9"
      },
      "execution_count": null,
      "outputs": [
        {
          "output_type": "execute_result",
          "data": {
            "text/plain": [
              "<PIL.Image.Image image mode=RGB size=400x300>"
            ],
            "image/png": "[encoded data removed]"
          },
          "metadata": {},
          "execution_count": 7
        }
      ]
    }
  ]
}