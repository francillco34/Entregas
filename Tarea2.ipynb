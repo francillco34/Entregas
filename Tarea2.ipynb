{
  "nbformat": 4,
  "nbformat_minor": 0,
  "metadata": {
    "colab": {
      "provenance": [],
      "include_colab_link": true
    },
    "kernelspec": {
      "name": "python3",
      "display_name": "Python 3"
    },
    "language_info": {
      "name": "python"
    }
  },
  "cells": [
    {
      "cell_type": "markdown",
      "metadata": {
        "id": "view-in-github",
        "colab_type": "text"
      },
      "source": [
        "<a href=\"https://colab.research.google.com/github/francillco34/Entregas/blob/main/Tarea2.ipynb\" target=\"_parent\"><img src=\"https://colab.research.google.com/assets/colab-badge.svg\" alt=\"Open In Colab\"/></a>"
      ]
    },
    {
      "cell_type": "code",
      "execution_count": null,
      "metadata": {
        "colab": {
          "base_uri": "https://localhost:8080/",
          "height": 517
        },
        "id": "BLGtDTgdVpLk",
        "outputId": "8526a33f-c944-49bf-dda1-2e5953b6fbcd"
      },
      "outputs": [
        {
          "output_type": "display_data",
          "data": {
            "text/plain": [
              "<PIL.Image.Image image mode=RGB size=500x500>"
            ],
            "image/png": "[encoded data removed]"
          },
          "metadata": {}
        }
      ],
      "source": [
        "from google.colab.patches import cv2_imshow\n",
        "import numpy as np\n",
        "import cv2 as cv\n",
        "import cv2\n",
        "\n",
        "\n",
        "def draw_triangle(im, triangle, color=(0,255,0)):\n",
        "    # Normalizar coordenadas homogeneas\n",
        "    triangle = np.array([ v[:-1]/v[-1] for v in triangle] , np.uint16)\n",
        "    cv.drawContours(im, [triangle.astype(int)], 0, color, -1)\n",
        "    for v in triangle:\n",
        "        cv.circle(im, tuple(v), 2, (255,0,255),-1)\n",
        "\n",
        "def scale(vertex, sx, sy):\n",
        "    matriz = np.array([[sx,0,0],[0,sy,0],[0,0,1]])\n",
        "    Transformacion1 = matriz @ vertex.T # Transpuesto\n",
        "    return Transformacion1.T\n",
        "\n",
        "def rotate(vertex, a):\n",
        "    a = np.deg2rad(a)\n",
        "    matriz = np.array([[np.cos(a),-np.sin(a),0],[np.sin(a),np.cos(a),0],[0,0,1]])\n",
        "    Transformacion3 = matriz @ vertex.T\n",
        "    return Transformacion3.T\n",
        "\n",
        "def translate(vertex, dx, dy): #vertices X matriles\n",
        "    matriz = np.array([[1,0, dx],[0,1, dy],[0,0,1]])\n",
        "    Transformacion2 = matriz @ vertex.T # Transpuesto\n",
        "    return Transformacion2.T\n",
        "\n",
        "# image size\n",
        "w = 500\n",
        "h = 500\n",
        "im = np.zeros((h,w,3), np.uint8)\n",
        "\n",
        "# Parametros de las transformaciones\n",
        "# Traslada a centro y realiza escala y rotacion\n",
        "angle = 30\n",
        "s = 3\n",
        "t = 250\n",
        "# Sistema coordenado de imagenes\n",
        "triangle1 = np.array( [[10,10,1], [70,10,1], [40, 60,1]])\n",
        "# escalado\n",
        "triangle2 = scale(triangle1, s,s)\n",
        "# Traslación inicial\n",
        "#triangle3 = translate(triangle2, t, t)\n",
        "# rotacion\n",
        "triangle3 = rotate(triangle2, angle)\n",
        "# Traslación inicial\n",
        "triangle4 = translate(triangle3, t,t)\n",
        "# Traslación\n",
        "triangle5 = translate(triangle4, -40,-30)\n",
        "\n",
        "# todo\n",
        "#triangle6 = translate(rotate(scale(translate(triangle1, -40,-30),s,s) ,angle), t,t)\n",
        "## llamar al trinagulo original\n",
        "draw_triangle(im, triangle1)\n",
        "## se cambia el triangulo\n",
        "draw_triangle(im, triangle4, color=(225,225,0)) #\n",
        "#draw_triangle(im, scale(translate(triangle1, 80, 80),s,s), color=(225,225,0))\n",
        "\n",
        "cv2_imshow(im)\n"
      ]
    },
    {
      "cell_type": "code",
      "source": [],
      "metadata": {
        "id": "ecuJzIDz4zqK"
      },
      "execution_count": null,
      "outputs": []
    }
  ]
}